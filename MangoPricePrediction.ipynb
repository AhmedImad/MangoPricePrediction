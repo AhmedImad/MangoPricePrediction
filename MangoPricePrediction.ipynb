{
  "nbformat": 4,
  "nbformat_minor": 0,
  "metadata": {
    "colab": {
      "name": "MangoPricePrediction.ipynb",
      "provenance": [],
      "collapsed_sections": []
    },
    "kernelspec": {
      "name": "python3",
      "display_name": "Python 3"
    },
    "language_info": {
      "name": "python"
    }
  },
  "cells": [
    {
      "cell_type": "code",
      "execution_count": 1,
      "metadata": {
        "id": "VYvGPO_6qO3q"
      },
      "outputs": [],
      "source": [
        "import pandas as pd\n",
        "import numpy as np\n",
        "import os\n",
        "import seaborn as sns\n",
        "from matplotlib import pyplot as plt"
      ]
    },
    {
      "cell_type": "code",
      "source": [
        "from google.colab import drive\n",
        "drive.mount('/content/drive')"
      ],
      "metadata": {
        "colab": {
          "base_uri": "https://localhost:8080/"
        },
        "id": "GoCAXfuUrGyP",
        "outputId": "e7c19cb8-f818-4081-cf63-171f1390d89d"
      },
      "execution_count": 2,
      "outputs": [
        {
          "output_type": "stream",
          "name": "stdout",
          "text": [
            "Mounted at /content/drive\n"
          ]
        }
      ]
    },
    {
      "cell_type": "markdown",
      "source": [
        "# **About Dataset**\n",
        "\n",
        "\n",
        "*   This dataset contains Export quality mango prices.\n",
        "*   Different types of mangos are grown in different regions of SriLanka\n",
        "\n",
        "\n",
        "*   Prices are per kilogram.\n",
        "\n",
        "\n",
        "\n",
        "\n",
        "\n",
        "\n",
        "\n"
      ],
      "metadata": {
        "id": "L-EGfsK-UAHa"
      }
    },
    {
      "cell_type": "markdown",
      "source": [
        "Locate the file in Google drive"
      ],
      "metadata": {
        "id": "kOME2R0ks2uy"
      }
    },
    {
      "cell_type": "code",
      "source": [
        "path = \"drive/MyDrive/colab_datasets\""
      ],
      "metadata": {
        "id": "wBfotjuUS24Z"
      },
      "execution_count": 3,
      "outputs": []
    },
    {
      "cell_type": "code",
      "source": [
        "data = pd.read_excel(path+\"/priceData_v01_mango.xlsx\")\n",
        "data.head()"
      ],
      "metadata": {
        "colab": {
          "base_uri": "https://localhost:8080/",
          "height": 206
        },
        "id": "qu9fkwNGteuQ",
        "outputId": "f802f523-bc87-4ddc-f89e-9e05ee21216d"
      },
      "execution_count": 4,
      "outputs": [
        {
          "output_type": "execute_result",
          "data": {
            "text/plain": [
              "   Unnamed: 0 broker  weekNo   lotNo           FarmNmae  grade  bagWeight  \\\n",
              "0         0.0     FW    29.0  2519.0      OPATA SPECIAL  OTHER       10.0   \n",
              "1         1.0     JK    29.0  1311.0          GLENANORE  OTHER       10.0   \n",
              "2         2.0     JK    29.0  1312.0          GLENANORE  OTHER       20.0   \n",
              "3         3.0     LC    28.0   151.0           KURUGAMA  OTHER       10.0   \n",
              "4         4.0     AS    27.0  1069.0  RATHMALGODA SUPER  OTHER       10.0   \n",
              "\n",
              "   nettWeight  Price DistrictRegion  \n",
              "0        24.0  360.0            Low  \n",
              "1        30.0  420.0        UvaHigh  \n",
              "2        30.0  450.0        UvaHigh  \n",
              "3        32.0  500.0         Medium  \n",
              "4        45.0  620.0            Low  "
            ],
            "text/html": [
              "\n",
              "  <div id=\"df-e3c266ba-3a66-44d8-b79d-32c2b5ef7fe1\">\n",
              "    <div class=\"colab-df-container\">\n",
              "      <div>\n",
              "<style scoped>\n",
              "    .dataframe tbody tr th:only-of-type {\n",
              "        vertical-align: middle;\n",
              "    }\n",
              "\n",
              "    .dataframe tbody tr th {\n",
              "        vertical-align: top;\n",
              "    }\n",
              "\n",
              "    .dataframe thead th {\n",
              "        text-align: right;\n",
              "    }\n",
              "</style>\n",
              "<table border=\"1\" class=\"dataframe\">\n",
              "  <thead>\n",
              "    <tr style=\"text-align: right;\">\n",
              "      <th></th>\n",
              "      <th>Unnamed: 0</th>\n",
              "      <th>broker</th>\n",
              "      <th>weekNo</th>\n",
              "      <th>lotNo</th>\n",
              "      <th>FarmNmae</th>\n",
              "      <th>grade</th>\n",
              "      <th>bagWeight</th>\n",
              "      <th>nettWeight</th>\n",
              "      <th>Price</th>\n",
              "      <th>DistrictRegion</th>\n",
              "    </tr>\n",
              "  </thead>\n",
              "  <tbody>\n",
              "    <tr>\n",
              "      <th>0</th>\n",
              "      <td>0.0</td>\n",
              "      <td>FW</td>\n",
              "      <td>29.0</td>\n",
              "      <td>2519.0</td>\n",
              "      <td>OPATA SPECIAL</td>\n",
              "      <td>OTHER</td>\n",
              "      <td>10.0</td>\n",
              "      <td>24.0</td>\n",
              "      <td>360.0</td>\n",
              "      <td>Low</td>\n",
              "    </tr>\n",
              "    <tr>\n",
              "      <th>1</th>\n",
              "      <td>1.0</td>\n",
              "      <td>JK</td>\n",
              "      <td>29.0</td>\n",
              "      <td>1311.0</td>\n",
              "      <td>GLENANORE</td>\n",
              "      <td>OTHER</td>\n",
              "      <td>10.0</td>\n",
              "      <td>30.0</td>\n",
              "      <td>420.0</td>\n",
              "      <td>UvaHigh</td>\n",
              "    </tr>\n",
              "    <tr>\n",
              "      <th>2</th>\n",
              "      <td>2.0</td>\n",
              "      <td>JK</td>\n",
              "      <td>29.0</td>\n",
              "      <td>1312.0</td>\n",
              "      <td>GLENANORE</td>\n",
              "      <td>OTHER</td>\n",
              "      <td>20.0</td>\n",
              "      <td>30.0</td>\n",
              "      <td>450.0</td>\n",
              "      <td>UvaHigh</td>\n",
              "    </tr>\n",
              "    <tr>\n",
              "      <th>3</th>\n",
              "      <td>3.0</td>\n",
              "      <td>LC</td>\n",
              "      <td>28.0</td>\n",
              "      <td>151.0</td>\n",
              "      <td>KURUGAMA</td>\n",
              "      <td>OTHER</td>\n",
              "      <td>10.0</td>\n",
              "      <td>32.0</td>\n",
              "      <td>500.0</td>\n",
              "      <td>Medium</td>\n",
              "    </tr>\n",
              "    <tr>\n",
              "      <th>4</th>\n",
              "      <td>4.0</td>\n",
              "      <td>AS</td>\n",
              "      <td>27.0</td>\n",
              "      <td>1069.0</td>\n",
              "      <td>RATHMALGODA SUPER</td>\n",
              "      <td>OTHER</td>\n",
              "      <td>10.0</td>\n",
              "      <td>45.0</td>\n",
              "      <td>620.0</td>\n",
              "      <td>Low</td>\n",
              "    </tr>\n",
              "  </tbody>\n",
              "</table>\n",
              "</div>\n",
              "      <button class=\"colab-df-convert\" onclick=\"convertToInteractive('df-e3c266ba-3a66-44d8-b79d-32c2b5ef7fe1')\"\n",
              "              title=\"Convert this dataframe to an interactive table.\"\n",
              "              style=\"display:none;\">\n",
              "        \n",
              "  <svg xmlns=\"http://www.w3.org/2000/svg\" height=\"24px\"viewBox=\"0 0 24 24\"\n",
              "       width=\"24px\">\n",
              "    <path d=\"M0 0h24v24H0V0z\" fill=\"none\"/>\n",
              "    <path d=\"M18.56 5.44l.94 2.06.94-2.06 2.06-.94-2.06-.94-.94-2.06-.94 2.06-2.06.94zm-11 1L8.5 8.5l.94-2.06 2.06-.94-2.06-.94L8.5 2.5l-.94 2.06-2.06.94zm10 10l.94 2.06.94-2.06 2.06-.94-2.06-.94-.94-2.06-.94 2.06-2.06.94z\"/><path d=\"M17.41 7.96l-1.37-1.37c-.4-.4-.92-.59-1.43-.59-.52 0-1.04.2-1.43.59L10.3 9.45l-7.72 7.72c-.78.78-.78 2.05 0 2.83L4 21.41c.39.39.9.59 1.41.59.51 0 1.02-.2 1.41-.59l7.78-7.78 2.81-2.81c.8-.78.8-2.07 0-2.86zM5.41 20L4 18.59l7.72-7.72 1.47 1.35L5.41 20z\"/>\n",
              "  </svg>\n",
              "      </button>\n",
              "      \n",
              "  <style>\n",
              "    .colab-df-container {\n",
              "      display:flex;\n",
              "      flex-wrap:wrap;\n",
              "      gap: 12px;\n",
              "    }\n",
              "\n",
              "    .colab-df-convert {\n",
              "      background-color: #E8F0FE;\n",
              "      border: none;\n",
              "      border-radius: 50%;\n",
              "      cursor: pointer;\n",
              "      display: none;\n",
              "      fill: #1967D2;\n",
              "      height: 32px;\n",
              "      padding: 0 0 0 0;\n",
              "      width: 32px;\n",
              "    }\n",
              "\n",
              "    .colab-df-convert:hover {\n",
              "      background-color: #E2EBFA;\n",
              "      box-shadow: 0px 1px 2px rgba(60, 64, 67, 0.3), 0px 1px 3px 1px rgba(60, 64, 67, 0.15);\n",
              "      fill: #174EA6;\n",
              "    }\n",
              "\n",
              "    [theme=dark] .colab-df-convert {\n",
              "      background-color: #3B4455;\n",
              "      fill: #D2E3FC;\n",
              "    }\n",
              "\n",
              "    [theme=dark] .colab-df-convert:hover {\n",
              "      background-color: #434B5C;\n",
              "      box-shadow: 0px 1px 3px 1px rgba(0, 0, 0, 0.15);\n",
              "      filter: drop-shadow(0px 1px 2px rgba(0, 0, 0, 0.3));\n",
              "      fill: #FFFFFF;\n",
              "    }\n",
              "  </style>\n",
              "\n",
              "      <script>\n",
              "        const buttonEl =\n",
              "          document.querySelector('#df-e3c266ba-3a66-44d8-b79d-32c2b5ef7fe1 button.colab-df-convert');\n",
              "        buttonEl.style.display =\n",
              "          google.colab.kernel.accessAllowed ? 'block' : 'none';\n",
              "\n",
              "        async function convertToInteractive(key) {\n",
              "          const element = document.querySelector('#df-e3c266ba-3a66-44d8-b79d-32c2b5ef7fe1');\n",
              "          const dataTable =\n",
              "            await google.colab.kernel.invokeFunction('convertToInteractive',\n",
              "                                                     [key], {});\n",
              "          if (!dataTable) return;\n",
              "\n",
              "          const docLinkHtml = 'Like what you see? Visit the ' +\n",
              "            '<a target=\"_blank\" href=https://colab.research.google.com/notebooks/data_table.ipynb>data table notebook</a>'\n",
              "            + ' to learn more about interactive tables.';\n",
              "          element.innerHTML = '';\n",
              "          dataTable['output_type'] = 'display_data';\n",
              "          await google.colab.output.renderOutput(dataTable, element);\n",
              "          const docLink = document.createElement('div');\n",
              "          docLink.innerHTML = docLinkHtml;\n",
              "          element.appendChild(docLink);\n",
              "        }\n",
              "      </script>\n",
              "    </div>\n",
              "  </div>\n",
              "  "
            ]
          },
          "metadata": {},
          "execution_count": 4
        }
      ]
    },
    {
      "cell_type": "code",
      "source": [
        "data.info()"
      ],
      "metadata": {
        "colab": {
          "base_uri": "https://localhost:8080/"
        },
        "id": "Lzm4GZMez7JR",
        "outputId": "ee165f97-a201-4ad4-d6e1-c8920118780b"
      },
      "execution_count": 5,
      "outputs": [
        {
          "output_type": "stream",
          "name": "stdout",
          "text": [
            "<class 'pandas.core.frame.DataFrame'>\n",
            "RangeIndex: 1018 entries, 0 to 1017\n",
            "Data columns (total 10 columns):\n",
            " #   Column          Non-Null Count  Dtype  \n",
            "---  ------          --------------  -----  \n",
            " 0   Unnamed: 0      1018 non-null   float64\n",
            " 1   broker          1018 non-null   object \n",
            " 2   weekNo          1018 non-null   float64\n",
            " 3   lotNo           1018 non-null   float64\n",
            " 4   FarmNmae        1018 non-null   object \n",
            " 5   grade           1018 non-null   object \n",
            " 6   bagWeight       1018 non-null   float64\n",
            " 7   nettWeight      1018 non-null   float64\n",
            " 8   Price           1018 non-null   float64\n",
            " 9   DistrictRegion  993 non-null    object \n",
            "dtypes: float64(6), object(4)\n",
            "memory usage: 79.7+ KB\n"
          ]
        }
      ]
    },
    {
      "cell_type": "markdown",
      "source": [
        "In this study I will be only using the following columns   \n",
        "\n",
        "\n",
        "1. Price (target variable)\n",
        "2. DistrictRegion (Independant variable)\n",
        "3. grade (Independant variable)\n",
        "\n",
        "\n",
        "\n",
        "\n"
      ],
      "metadata": {
        "id": "wTvqU-evXiGi"
      }
    },
    {
      "cell_type": "code",
      "source": [
        "data = data[['grade','DistrictRegion','Price']]"
      ],
      "metadata": {
        "id": "thj0W0OZzaYN"
      },
      "execution_count": 6,
      "outputs": []
    },
    {
      "cell_type": "code",
      "source": [
        "#size of dtatset\n",
        "data.shape"
      ],
      "metadata": {
        "colab": {
          "base_uri": "https://localhost:8080/"
        },
        "id": "PB9uBhu8V-3n",
        "outputId": "e9ecccdf-fafe-443e-9b08-84c02be3b963"
      },
      "execution_count": 7,
      "outputs": [
        {
          "output_type": "execute_result",
          "data": {
            "text/plain": [
              "(1018, 3)"
            ]
          },
          "metadata": {},
          "execution_count": 7
        }
      ]
    },
    {
      "cell_type": "markdown",
      "source": [
        "# Data cleaning and Preperation"
      ],
      "metadata": {
        "id": "66tVJL31BST4"
      }
    },
    {
      "cell_type": "code",
      "source": [
        "#count the numbers of null values\n",
        "#data.isna().sum()\n",
        "data.isnull().sum()"
      ],
      "metadata": {
        "colab": {
          "base_uri": "https://localhost:8080/"
        },
        "id": "HVFgbqLMWLqF",
        "outputId": "1e2bfa8d-7ddf-4c17-8242-7d0d1a587135"
      },
      "execution_count": 8,
      "outputs": [
        {
          "output_type": "execute_result",
          "data": {
            "text/plain": [
              "grade              0\n",
              "DistrictRegion    25\n",
              "Price              0\n",
              "dtype: int64"
            ]
          },
          "metadata": {},
          "execution_count": 8
        }
      ]
    },
    {
      "cell_type": "code",
      "source": [
        "'''\n",
        "Since DistrictRegion column is a categorical column filling the\n",
        "missing values with the most frequent occorence will be most appropreate\n",
        "'''\n",
        "data = data.fillna(data.mode().iloc[0])"
      ],
      "metadata": {
        "id": "1J_bCVF5OKzx"
      },
      "execution_count": 9,
      "outputs": []
    },
    {
      "cell_type": "code",
      "source": [
        "data.isnull().sum()"
      ],
      "metadata": {
        "colab": {
          "base_uri": "https://localhost:8080/"
        },
        "id": "ju-PGDczNfgp",
        "outputId": "9dc2b2e2-d7fa-4002-eaf5-4ed987b785ca"
      },
      "execution_count": 10,
      "outputs": [
        {
          "output_type": "execute_result",
          "data": {
            "text/plain": [
              "grade             0\n",
              "DistrictRegion    0\n",
              "Price             0\n",
              "dtype: int64"
            ]
          },
          "metadata": {},
          "execution_count": 10
        }
      ]
    },
    {
      "cell_type": "code",
      "source": [
        "'''\n",
        "Lets now look at the distribution of price feature\n",
        "'''\n",
        "sns.displot(data['Price'])"
      ],
      "metadata": {
        "colab": {
          "base_uri": "https://localhost:8080/",
          "height": 386
        },
        "id": "jkx0d0dAnEKv",
        "outputId": "75503c5d-a4c5-4c2b-8394-a0fe8e5dd3fd"
      },
      "execution_count": 11,
      "outputs": [
        {
          "output_type": "execute_result",
          "data": {
            "text/plain": [
              "<seaborn.axisgrid.FacetGrid at 0x7f050d1f81d0>"
            ]
          },
          "metadata": {},
          "execution_count": 11
        },
        {
          "output_type": "display_data",
          "data": {
            "text/plain": [
              "<Figure size 360x360 with 1 Axes>"
            ],
            "image/png": "[encoded data removed]"
          },
          "metadata": {
            "needs_background": "light"
          }
        }
      ]
    },
    {
      "cell_type": "code",
      "source": [
        "'''\n",
        "As per the plot, price is not eactly a normal distribution\n",
        "we have to find if we any outliers and treat it\n",
        "\n",
        "Outliers can be detected by several methods such as\n",
        "1. Scatter plots\n",
        "2. Z-score\n",
        "3. IQR (Inter quartile range)\n",
        "\n",
        "We will be usnig IQR method\n",
        "'''\n",
        "B_plot = sns.boxplot(data.Price)\n"
      ],
      "metadata": {
        "colab": {
          "base_uri": "https://localhost:8080/",
          "height": 334
        },
        "id": "f3I41Nr9R_WI",
        "outputId": "40c9a75f-abe6-42b2-e0f1-f2797b839dd2"
      },
      "execution_count": 12,
      "outputs": [
        {
          "output_type": "stream",
          "name": "stderr",
          "text": [
            "/usr/local/lib/python3.7/dist-packages/seaborn/_decorators.py:43: FutureWarning: Pass the following variable as a keyword arg: x. From version 0.12, the only valid positional argument will be `data`, and passing other arguments without an explicit keyword will result in an error or misinterpretation.\n",
            "  FutureWarning\n"
          ]
        },
        {
          "output_type": "display_data",
          "data": {
            "text/plain": [
              "<Figure size 432x288 with 1 Axes>"
            ],
            "image/png": "[encoded data removed]"
          },
          "metadata": {
            "needs_background": "light"
          }
        }
      ]
    },
    {
      "cell_type": "code",
      "source": [
        "#Outlier removal\n",
        "\n",
        "#finding the IQR\n",
        "p_25 = data['Price'].quantile(0.25)\n",
        "p_75 = data['Price'].quantile(0.75)\n",
        "iqr = p_75 - p_25\n",
        "\n",
        "#setting up the upper and lower limits\n",
        "upper_limit = p_75 + 1.5 * iqr\n",
        "lower_limit = p_25 - 1.5 * iqr\n",
        "\n",
        "#finding outliers\n",
        "data[data['Price'] > upper_limit]\n",
        "data[data['Price'] < lower_limit]\n",
        "\n",
        "#Trimming \n",
        "trimmed_data = data[data['Price'] < upper_limit]\n",
        "trimmed_data = trimmed_data[trimmed_data['Price'] > lower_limit]\n"
      ],
      "metadata": {
        "id": "xohVsy4XfFV7"
      },
      "execution_count": 13,
      "outputs": []
    },
    {
      "cell_type": "code",
      "source": [
        "fig, axes = plt.subplots(2, 2, figsize=(20, 10))\n",
        "fig.suptitle('side by side comparison of before and after trimming')\n",
        "\n",
        "sns.histplot(ax=axes[0, 0],data = data.Price)\n",
        "sns.boxplot(ax=axes[0, 1], data=data.Price,orient=\"h\")\n",
        "sns.histplot(ax=axes[1, 0], data=trimmed_data.Price)\n",
        "sns.boxplot(trimmed_data.Price)\n",
        "\n"
      ],
      "metadata": {
        "colab": {
          "base_uri": "https://localhost:8080/",
          "height": 749
        },
        "id": "URxYgct_uowz",
        "outputId": "c9147747-1b1f-4b07-a586-629e96dce779"
      },
      "execution_count": 14,
      "outputs": [
        {
          "output_type": "stream",
          "name": "stderr",
          "text": [
            "/usr/local/lib/python3.7/dist-packages/seaborn/_decorators.py:43: FutureWarning: Pass the following variable as a keyword arg: x. From version 0.12, the only valid positional argument will be `data`, and passing other arguments without an explicit keyword will result in an error or misinterpretation.\n",
            "  FutureWarning\n"
          ]
        },
        {
          "output_type": "execute_result",
          "data": {
            "text/plain": [
              "<matplotlib.axes._subplots.AxesSubplot at 0x7f050a1f4190>"
            ]
          },
          "metadata": {},
          "execution_count": 14
        },
        {
          "output_type": "display_data",
          "data": {
            "text/plain": [
              "<Figure size 1440x720 with 4 Axes>"
            ],
            "image/png": "[encoded data removed]"
          },
          "metadata": {
            "needs_background": "light"
          }
        }
      ]
    },
    {
      "cell_type": "code",
      "source": [
        "trimmed_data.shape"
      ],
      "metadata": {
        "colab": {
          "base_uri": "https://localhost:8080/"
        },
        "id": "6I0VFOmuI0Yc",
        "outputId": "6bb741b0-7948-4798-efc0-ffbedaab6daf"
      },
      "execution_count": 15,
      "outputs": [
        {
          "output_type": "execute_result",
          "data": {
            "text/plain": [
              "(917, 3)"
            ]
          },
          "metadata": {},
          "execution_count": 15
        }
      ]
    },
    {
      "cell_type": "markdown",
      "source": [
        "#**A simple analysis on cleaned data**"
      ],
      "metadata": {
        "id": "UEnrjcZlry8k"
      }
    },
    {
      "cell_type": "code",
      "source": [
        "unique_grades = trimmed_data[\"grade\"].unique()\n",
        "unique_grades"
      ],
      "metadata": {
        "colab": {
          "base_uri": "https://localhost:8080/"
        },
        "id": "dSOfilRWr-08",
        "outputId": "46c5f304-a7a1-4b45-ea65-c0d3598b8c58"
      },
      "execution_count": 29,
      "outputs": [
        {
          "output_type": "execute_result",
          "data": {
            "text/plain": [
              "array(['OTHER', 'Malwana', 'Giraamba', 'Dampara', 'Horanahiru',\n",
              "       'Karthacolomban', 'TOM EJC', 'Velleicolomban', 'Villard'],\n",
              "      dtype=object)"
            ]
          },
          "metadata": {},
          "execution_count": 29
        }
      ]
    },
    {
      "cell_type": "code",
      "source": [
        "unique_regions = trimmed_data[\"DistrictRegion\"].unique()\n",
        "unique_regions"
      ],
      "metadata": {
        "colab": {
          "base_uri": "https://localhost:8080/"
        },
        "id": "0X318rAozxrE",
        "outputId": "29904163-cf90-4439-9ba6-8959feff83de"
      },
      "execution_count": 30,
      "outputs": [
        {
          "output_type": "execute_result",
          "data": {
            "text/plain": [
              "array(['UvaHigh', 'Medium', 'Low', 'high', 'WesternHigh', 'WesternMedium',\n",
              "       'UvaMedium'], dtype=object)"
            ]
          },
          "metadata": {},
          "execution_count": 30
        }
      ]
    },
    {
      "cell_type": "code",
      "source": [
        "pd.unique(trimmed_data[['grade', 'DistrictRegion']].values.ravel('K'))"
      ],
      "metadata": {
        "colab": {
          "base_uri": "https://localhost:8080/"
        },
        "id": "BlOLsoszyEV2",
        "outputId": "7072e37b-46d4-4664-c07e-666d2edfac89"
      },
      "execution_count": 27,
      "outputs": [
        {
          "output_type": "execute_result",
          "data": {
            "text/plain": [
              "array(['OTHER', 'Malwana', 'Giraamba', 'Dampara', 'Horanahiru',\n",
              "       'Karthacolomban', 'TOM EJC', 'Velleicolomban', 'Villard',\n",
              "       'UvaHigh', 'Medium', 'Low', 'high', 'WesternHigh', 'WesternMedium',\n",
              "       'UvaMedium'], dtype=object)"
            ]
          },
          "metadata": {},
          "execution_count": 27
        }
      ]
    },
    {
      "cell_type": "code",
      "source": [
        "trimmed_data.groupby(\"DistrictRegion\")[\"grade\"].value_counts()\n"
      ],
      "metadata": {
        "colab": {
          "base_uri": "https://localhost:8080/"
        },
        "id": "CPo4OzLH-F8c",
        "outputId": "a8b9d4cd-93e8-41c4-b47d-60d923dc5e72"
      },
      "execution_count": null,
      "outputs": [
        {
          "output_type": "execute_result",
          "data": {
            "text/plain": [
              "DistrictRegion  grade         \n",
              "Low             OTHER              45\n",
              "                Giraamba           15\n",
              "                Dampara            14\n",
              "                TOM EJC            13\n",
              "                Horanahiru         12\n",
              "                Villard             8\n",
              "                Velleicolomban      5\n",
              "                Karthacolomban      4\n",
              "                Malwana             1\n",
              "Medium          OTHER              53\n",
              "                TOM EJC            15\n",
              "                Horanahiru         14\n",
              "                Giraamba            6\n",
              "                Dampara             4\n",
              "                Malwana             4\n",
              "                Villard             4\n",
              "                Karthacolomban      3\n",
              "                Velleicolomban      2\n",
              "UvaHigh         Villard            12\n",
              "                Velleicolomban      8\n",
              "                Malwana             7\n",
              "                Dampara             5\n",
              "                Horanahiru          5\n",
              "                OTHER               4\n",
              "                Karthacolomban      1\n",
              "UvaMedium       OTHER               5\n",
              "                Velleicolomban      4\n",
              "                Villard             3\n",
              "                Malwana             1\n",
              "WesternHigh     Horanahiru        217\n",
              "                Velleicolomban     95\n",
              "                Karthacolomban     84\n",
              "                Villard            67\n",
              "                TOM EJC            28\n",
              "                OTHER              24\n",
              "                Malwana            17\n",
              "                Dampara             6\n",
              "WesternMedium   TOM EJC            11\n",
              "                Horanahiru          6\n",
              "                Karthacolomban      6\n",
              "                OTHER               4\n",
              "                Villard             3\n",
              "                Dampara             2\n",
              "                Malwana             1\n",
              "                Velleicolomban      1\n",
              "high            Horanahiru         20\n",
              "                Karthacolomban     10\n",
              "                OTHER              10\n",
              "                TOM EJC            10\n",
              "                Villard             7\n",
              "                Velleicolomban      6\n",
              "                Malwana             3\n",
              "                Dampara             2\n",
              "Name: grade, dtype: int64"
            ]
          },
          "metadata": {},
          "execution_count": 41
        }
      ]
    },
    {
      "cell_type": "markdown",
      "source": [
        "# **One Hot Encording**\n",
        "Since both the independant variables DistrictRegion and grade are categorical encoding technique will be used "
      ],
      "metadata": {
        "id": "RSRp3uZfCrk8"
      }
    },
    {
      "cell_type": "code",
      "source": [
        "# Create a categorical boolean mask only for required features\n",
        "# easy to impliment when new data coming in with new categorical variables\n",
        "categorical_feature_mask = trimmed_data.dtypes == object\n",
        "\n",
        "# Filter out the categorical columns into a list for easy reference later on in case\n",
        "# if we have more than two categorical columns\n",
        "categorical_cols = trimmed_data.columns[categorical_feature_mask].tolist()\n",
        "categorical_cols\n",
        "\n",
        "# Instantiate the OneHotEncoder Object\n",
        "from sklearn.preprocessing import OneHotEncoder\n",
        "ohe = OneHotEncoder(handle_unknown='ignore', sparse = False)\n",
        "\n",
        "# Apply One Hot Encorder on data\n",
        "# and fit and transform\n",
        "ohe.fit(trimmed_data[categorical_cols])\n",
        "cat_ohe = ohe.transform(trimmed_data[categorical_cols])\n",
        "#cat_ohe\n",
        "\n",
        "#Create a Pandas DataFrame of the hot encoded column\n",
        "ohe_df = pd.DataFrame(cat_ohe, columns = ohe.get_feature_names(input_features = categorical_cols))\n",
        "#ohe_df\n",
        "\n"
      ],
      "metadata": {
        "id": "uTDi8nqMCuPb"
      },
      "execution_count": null,
      "outputs": []
    },
    {
      "cell_type": "code",
      "source": [
        "#concat with original data and drop original categorical columns\n",
        "trimmed_data.reset_index(drop=True, inplace=True)\n",
        "ohe_df.reset_index(drop=True, inplace=True)\n",
        "df_ohe = pd.concat([trimmed_data, ohe_df], axis=1).drop(columns = categorical_cols, axis=1)\n",
        "df_ohe"
      ],
      "metadata": {
        "colab": {
          "base_uri": "https://localhost:8080/",
          "height": 505
        },
        "id": "KWXAmeKEGI9E",
        "outputId": "1b8dfdf0-79d3-4e17-caaf-9c0fe1fc7f80"
      },
      "execution_count": null,
      "outputs": [
        {
          "output_type": "execute_result",
          "data": {
            "text/plain": [
              "     Price  grade_Dampara  grade_Giraamba  grade_Horanahiru  \\\n",
              "0    420.0            0.0             0.0               0.0   \n",
              "1    450.0            0.0             0.0               0.0   \n",
              "2    500.0            0.0             0.0               0.0   \n",
              "3    480.0            0.0             0.0               0.0   \n",
              "4    490.0            0.0             0.0               0.0   \n",
              "..     ...            ...             ...               ...   \n",
              "912  450.0            0.0             0.0               0.0   \n",
              "913  460.0            0.0             0.0               0.0   \n",
              "914  460.0            0.0             0.0               0.0   \n",
              "915  420.0            0.0             0.0               0.0   \n",
              "916  460.0            0.0             0.0               0.0   \n",
              "\n",
              "     grade_Karthacolomban  grade_Malwana  grade_OTHER  grade_TOM EJC  \\\n",
              "0                     0.0            0.0          1.0            0.0   \n",
              "1                     0.0            0.0          1.0            0.0   \n",
              "2                     0.0            0.0          1.0            0.0   \n",
              "3                     0.0            0.0          1.0            0.0   \n",
              "4                     0.0            0.0          1.0            0.0   \n",
              "..                    ...            ...          ...            ...   \n",
              "912                   0.0            0.0          0.0            0.0   \n",
              "913                   0.0            0.0          0.0            0.0   \n",
              "914                   0.0            0.0          0.0            0.0   \n",
              "915                   0.0            0.0          0.0            0.0   \n",
              "916                   0.0            0.0          0.0            0.0   \n",
              "\n",
              "     grade_Velleicolomban  grade_Villard  DistrictRegion_Low  \\\n",
              "0                     0.0            0.0                 0.0   \n",
              "1                     0.0            0.0                 0.0   \n",
              "2                     0.0            0.0                 0.0   \n",
              "3                     0.0            0.0                 1.0   \n",
              "4                     0.0            0.0                 1.0   \n",
              "..                    ...            ...                 ...   \n",
              "912                   0.0            1.0                 1.0   \n",
              "913                   0.0            1.0                 0.0   \n",
              "914                   0.0            1.0                 0.0   \n",
              "915                   0.0            1.0                 0.0   \n",
              "916                   0.0            1.0                 0.0   \n",
              "\n",
              "     DistrictRegion_Medium  DistrictRegion_UvaHigh  DistrictRegion_UvaMedium  \\\n",
              "0                      0.0                     1.0                       0.0   \n",
              "1                      0.0                     1.0                       0.0   \n",
              "2                      1.0                     0.0                       0.0   \n",
              "3                      0.0                     0.0                       0.0   \n",
              "4                      0.0                     0.0                       0.0   \n",
              "..                     ...                     ...                       ...   \n",
              "912                    0.0                     0.0                       0.0   \n",
              "913                    0.0                     0.0                       1.0   \n",
              "914                    0.0                     0.0                       0.0   \n",
              "915                    0.0                     0.0                       0.0   \n",
              "916                    0.0                     1.0                       0.0   \n",
              "\n",
              "     DistrictRegion_WesternHigh  DistrictRegion_WesternMedium  \\\n",
              "0                           0.0                           0.0   \n",
              "1                           0.0                           0.0   \n",
              "2                           0.0                           0.0   \n",
              "3                           0.0                           0.0   \n",
              "4                           0.0                           0.0   \n",
              "..                          ...                           ...   \n",
              "912                         0.0                           0.0   \n",
              "913                         0.0                           0.0   \n",
              "914                         0.0                           0.0   \n",
              "915                         0.0                           0.0   \n",
              "916                         0.0                           0.0   \n",
              "\n",
              "     DistrictRegion_high  \n",
              "0                    0.0  \n",
              "1                    0.0  \n",
              "2                    0.0  \n",
              "3                    0.0  \n",
              "4                    0.0  \n",
              "..                   ...  \n",
              "912                  0.0  \n",
              "913                  0.0  \n",
              "914                  1.0  \n",
              "915                  1.0  \n",
              "916                  0.0  \n",
              "\n",
              "[917 rows x 17 columns]"
            ],
            "text/html": [
              "\n",
              "  <div id=\"df-73f1b256-9c17-41f6-8ca8-4a58d963babf\">\n",
              "    <div class=\"colab-df-container\">\n",
              "      <div>\n",
              "<style scoped>\n",
              "    .dataframe tbody tr th:only-of-type {\n",
              "        vertical-align: middle;\n",
              "    }\n",
              "\n",
              "    .dataframe tbody tr th {\n",
              "        vertical-align: top;\n",
              "    }\n",
              "\n",
              "    .dataframe thead th {\n",
              "        text-align: right;\n",
              "    }\n",
              "</style>\n",
              "<table border=\"1\" class=\"dataframe\">\n",
              "  <thead>\n",
              "    <tr style=\"text-align: right;\">\n",
              "      <th></th>\n",
              "      <th>Price</th>\n",
              "      <th>grade_Dampara</th>\n",
              "      <th>grade_Giraamba</th>\n",
              "      <th>grade_Horanahiru</th>\n",
              "      <th>grade_Karthacolomban</th>\n",
              "      <th>grade_Malwana</th>\n",
              "      <th>grade_OTHER</th>\n",
              "      <th>grade_TOM EJC</th>\n",
              "      <th>grade_Velleicolomban</th>\n",
              "      <th>grade_Villard</th>\n",
              "      <th>DistrictRegion_Low</th>\n",
              "      <th>DistrictRegion_Medium</th>\n",
              "      <th>DistrictRegion_UvaHigh</th>\n",
              "      <th>DistrictRegion_UvaMedium</th>\n",
              "      <th>DistrictRegion_WesternHigh</th>\n",
              "      <th>DistrictRegion_WesternMedium</th>\n",
              "      <th>DistrictRegion_high</th>\n",
              "    </tr>\n",
              "  </thead>\n",
              "  <tbody>\n",
              "    <tr>\n",
              "      <th>0</th>\n",
              "      <td>420.0</td>\n",
              "      <td>0.0</td>\n",
              "      <td>0.0</td>\n",
              "      <td>0.0</td>\n",
              "      <td>0.0</td>\n",
              "      <td>0.0</td>\n",
              "      <td>1.0</td>\n",
              "      <td>0.0</td>\n",
              "      <td>0.0</td>\n",
              "      <td>0.0</td>\n",
              "      <td>0.0</td>\n",
              "      <td>0.0</td>\n",
              "      <td>1.0</td>\n",
              "      <td>0.0</td>\n",
              "      <td>0.0</td>\n",
              "      <td>0.0</td>\n",
              "      <td>0.0</td>\n",
              "    </tr>\n",
              "    <tr>\n",
              "      <th>1</th>\n",
              "      <td>450.0</td>\n",
              "      <td>0.0</td>\n",
              "      <td>0.0</td>\n",
              "      <td>0.0</td>\n",
              "      <td>0.0</td>\n",
              "      <td>0.0</td>\n",
              "      <td>1.0</td>\n",
              "      <td>0.0</td>\n",
              "      <td>0.0</td>\n",
              "      <td>0.0</td>\n",
              "      <td>0.0</td>\n",
              "      <td>0.0</td>\n",
              "      <td>1.0</td>\n",
              "      <td>0.0</td>\n",
              "      <td>0.0</td>\n",
              "      <td>0.0</td>\n",
              "      <td>0.0</td>\n",
              "    </tr>\n",
              "    <tr>\n",
              "      <th>2</th>\n",
              "      <td>500.0</td>\n",
              "      <td>0.0</td>\n",
              "      <td>0.0</td>\n",
              "      <td>0.0</td>\n",
              "      <td>0.0</td>\n",
              "      <td>0.0</td>\n",
              "      <td>1.0</td>\n",
              "      <td>0.0</td>\n",
              "      <td>0.0</td>\n",
              "      <td>0.0</td>\n",
              "      <td>0.0</td>\n",
              "      <td>1.0</td>\n",
              "      <td>0.0</td>\n",
              "      <td>0.0</td>\n",
              "      <td>0.0</td>\n",
              "      <td>0.0</td>\n",
              "      <td>0.0</td>\n",
              "    </tr>\n",
              "    <tr>\n",
              "      <th>3</th>\n",
              "      <td>480.0</td>\n",
              "      <td>0.0</td>\n",
              "      <td>0.0</td>\n",
              "      <td>0.0</td>\n",
              "      <td>0.0</td>\n",
              "      <td>0.0</td>\n",
              "      <td>1.0</td>\n",
              "      <td>0.0</td>\n",
              "      <td>0.0</td>\n",
              "      <td>0.0</td>\n",
              "      <td>1.0</td>\n",
              "      <td>0.0</td>\n",
              "      <td>0.0</td>\n",
              "      <td>0.0</td>\n",
              "      <td>0.0</td>\n",
              "      <td>0.0</td>\n",
              "      <td>0.0</td>\n",
              "    </tr>\n",
              "    <tr>\n",
              "      <th>4</th>\n",
              "      <td>490.0</td>\n",
              "      <td>0.0</td>\n",
              "      <td>0.0</td>\n",
              "      <td>0.0</td>\n",
              "      <td>0.0</td>\n",
              "      <td>0.0</td>\n",
              "      <td>1.0</td>\n",
              "      <td>0.0</td>\n",
              "      <td>0.0</td>\n",
              "      <td>0.0</td>\n",
              "      <td>1.0</td>\n",
              "      <td>0.0</td>\n",
              "      <td>0.0</td>\n",
              "      <td>0.0</td>\n",
              "      <td>0.0</td>\n",
              "      <td>0.0</td>\n",
              "      <td>0.0</td>\n",
              "    </tr>\n",
              "    <tr>\n",
              "      <th>...</th>\n",
              "      <td>...</td>\n",
              "      <td>...</td>\n",
              "      <td>...</td>\n",
              "      <td>...</td>\n",
              "      <td>...</td>\n",
              "      <td>...</td>\n",
              "      <td>...</td>\n",
              "      <td>...</td>\n",
              "      <td>...</td>\n",
              "      <td>...</td>\n",
              "      <td>...</td>\n",
              "      <td>...</td>\n",
              "      <td>...</td>\n",
              "      <td>...</td>\n",
              "      <td>...</td>\n",
              "      <td>...</td>\n",
              "      <td>...</td>\n",
              "    </tr>\n",
              "    <tr>\n",
              "      <th>912</th>\n",
              "      <td>450.0</td>\n",
              "      <td>0.0</td>\n",
              "      <td>0.0</td>\n",
              "      <td>0.0</td>\n",
              "      <td>0.0</td>\n",
              "      <td>0.0</td>\n",
              "      <td>0.0</td>\n",
              "      <td>0.0</td>\n",
              "      <td>0.0</td>\n",
              "      <td>1.0</td>\n",
              "      <td>1.0</td>\n",
              "      <td>0.0</td>\n",
              "      <td>0.0</td>\n",
              "      <td>0.0</td>\n",
              "      <td>0.0</td>\n",
              "      <td>0.0</td>\n",
              "      <td>0.0</td>\n",
              "    </tr>\n",
              "    <tr>\n",
              "      <th>913</th>\n",
              "      <td>460.0</td>\n",
              "      <td>0.0</td>\n",
              "      <td>0.0</td>\n",
              "      <td>0.0</td>\n",
              "      <td>0.0</td>\n",
              "      <td>0.0</td>\n",
              "      <td>0.0</td>\n",
              "      <td>0.0</td>\n",
              "      <td>0.0</td>\n",
              "      <td>1.0</td>\n",
              "      <td>0.0</td>\n",
              "      <td>0.0</td>\n",
              "      <td>0.0</td>\n",
              "      <td>1.0</td>\n",
              "      <td>0.0</td>\n",
              "      <td>0.0</td>\n",
              "      <td>0.0</td>\n",
              "    </tr>\n",
              "    <tr>\n",
              "      <th>914</th>\n",
              "      <td>460.0</td>\n",
              "      <td>0.0</td>\n",
              "      <td>0.0</td>\n",
              "      <td>0.0</td>\n",
              "      <td>0.0</td>\n",
              "      <td>0.0</td>\n",
              "      <td>0.0</td>\n",
              "      <td>0.0</td>\n",
              "      <td>0.0</td>\n",
              "      <td>1.0</td>\n",
              "      <td>0.0</td>\n",
              "      <td>0.0</td>\n",
              "      <td>0.0</td>\n",
              "      <td>0.0</td>\n",
              "      <td>0.0</td>\n",
              "      <td>0.0</td>\n",
              "      <td>1.0</td>\n",
              "    </tr>\n",
              "    <tr>\n",
              "      <th>915</th>\n",
              "      <td>420.0</td>\n",
              "      <td>0.0</td>\n",
              "      <td>0.0</td>\n",
              "      <td>0.0</td>\n",
              "      <td>0.0</td>\n",
              "      <td>0.0</td>\n",
              "      <td>0.0</td>\n",
              "      <td>0.0</td>\n",
              "      <td>0.0</td>\n",
              "      <td>1.0</td>\n",
              "      <td>0.0</td>\n",
              "      <td>0.0</td>\n",
              "      <td>0.0</td>\n",
              "      <td>0.0</td>\n",
              "      <td>0.0</td>\n",
              "      <td>0.0</td>\n",
              "      <td>1.0</td>\n",
              "    </tr>\n",
              "    <tr>\n",
              "      <th>916</th>\n",
              "      <td>460.0</td>\n",
              "      <td>0.0</td>\n",
              "      <td>0.0</td>\n",
              "      <td>0.0</td>\n",
              "      <td>0.0</td>\n",
              "      <td>0.0</td>\n",
              "      <td>0.0</td>\n",
              "      <td>0.0</td>\n",
              "      <td>0.0</td>\n",
              "      <td>1.0</td>\n",
              "      <td>0.0</td>\n",
              "      <td>0.0</td>\n",
              "      <td>1.0</td>\n",
              "      <td>0.0</td>\n",
              "      <td>0.0</td>\n",
              "      <td>0.0</td>\n",
              "      <td>0.0</td>\n",
              "    </tr>\n",
              "  </tbody>\n",
              "</table>\n",
              "<p>917 rows × 17 columns</p>\n",
              "</div>\n",
              "      <button class=\"colab-df-convert\" onclick=\"convertToInteractive('df-73f1b256-9c17-41f6-8ca8-4a58d963babf')\"\n",
              "              title=\"Convert this dataframe to an interactive table.\"\n",
              "              style=\"display:none;\">\n",
              "        \n",
              "  <svg xmlns=\"http://www.w3.org/2000/svg\" height=\"24px\"viewBox=\"0 0 24 24\"\n",
              "       width=\"24px\">\n",
              "    <path d=\"M0 0h24v24H0V0z\" fill=\"none\"/>\n",
              "    <path d=\"M18.56 5.44l.94 2.06.94-2.06 2.06-.94-2.06-.94-.94-2.06-.94 2.06-2.06.94zm-11 1L8.5 8.5l.94-2.06 2.06-.94-2.06-.94L8.5 2.5l-.94 2.06-2.06.94zm10 10l.94 2.06.94-2.06 2.06-.94-2.06-.94-.94-2.06-.94 2.06-2.06.94z\"/><path d=\"M17.41 7.96l-1.37-1.37c-.4-.4-.92-.59-1.43-.59-.52 0-1.04.2-1.43.59L10.3 9.45l-7.72 7.72c-.78.78-.78 2.05 0 2.83L4 21.41c.39.39.9.59 1.41.59.51 0 1.02-.2 1.41-.59l7.78-7.78 2.81-2.81c.8-.78.8-2.07 0-2.86zM5.41 20L4 18.59l7.72-7.72 1.47 1.35L5.41 20z\"/>\n",
              "  </svg>\n",
              "      </button>\n",
              "      \n",
              "  <style>\n",
              "    .colab-df-container {\n",
              "      display:flex;\n",
              "      flex-wrap:wrap;\n",
              "      gap: 12px;\n",
              "    }\n",
              "\n",
              "    .colab-df-convert {\n",
              "      background-color: #E8F0FE;\n",
              "      border: none;\n",
              "      border-radius: 50%;\n",
              "      cursor: pointer;\n",
              "      display: none;\n",
              "      fill: #1967D2;\n",
              "      height: 32px;\n",
              "      padding: 0 0 0 0;\n",
              "      width: 32px;\n",
              "    }\n",
              "\n",
              "    .colab-df-convert:hover {\n",
              "      background-color: #E2EBFA;\n",
              "      box-shadow: 0px 1px 2px rgba(60, 64, 67, 0.3), 0px 1px 3px 1px rgba(60, 64, 67, 0.15);\n",
              "      fill: #174EA6;\n",
              "    }\n",
              "\n",
              "    [theme=dark] .colab-df-convert {\n",
              "      background-color: #3B4455;\n",
              "      fill: #D2E3FC;\n",
              "    }\n",
              "\n",
              "    [theme=dark] .colab-df-convert:hover {\n",
              "      background-color: #434B5C;\n",
              "      box-shadow: 0px 1px 3px 1px rgba(0, 0, 0, 0.15);\n",
              "      filter: drop-shadow(0px 1px 2px rgba(0, 0, 0, 0.3));\n",
              "      fill: #FFFFFF;\n",
              "    }\n",
              "  </style>\n",
              "\n",
              "      <script>\n",
              "        const buttonEl =\n",
              "          document.querySelector('#df-73f1b256-9c17-41f6-8ca8-4a58d963babf button.colab-df-convert');\n",
              "        buttonEl.style.display =\n",
              "          google.colab.kernel.accessAllowed ? 'block' : 'none';\n",
              "\n",
              "        async function convertToInteractive(key) {\n",
              "          const element = document.querySelector('#df-73f1b256-9c17-41f6-8ca8-4a58d963babf');\n",
              "          const dataTable =\n",
              "            await google.colab.kernel.invokeFunction('convertToInteractive',\n",
              "                                                     [key], {});\n",
              "          if (!dataTable) return;\n",
              "\n",
              "          const docLinkHtml = 'Like what you see? Visit the ' +\n",
              "            '<a target=\"_blank\" href=https://colab.research.google.com/notebooks/data_table.ipynb>data table notebook</a>'\n",
              "            + ' to learn more about interactive tables.';\n",
              "          element.innerHTML = '';\n",
              "          dataTable['output_type'] = 'display_data';\n",
              "          await google.colab.output.renderOutput(dataTable, element);\n",
              "          const docLink = document.createElement('div');\n",
              "          docLink.innerHTML = docLinkHtml;\n",
              "          element.appendChild(docLink);\n",
              "        }\n",
              "      </script>\n",
              "    </div>\n",
              "  </div>\n",
              "  "
            ]
          },
          "metadata": {},
          "execution_count": 43
        }
      ]
    },
    {
      "cell_type": "markdown",
      "source": [
        "# **Model Building**"
      ],
      "metadata": {
        "id": "v7wUZ2vdBogb"
      }
    },
    {
      "cell_type": "code",
      "source": [
        "#define the indipendant and target variable\n",
        "X = df_ohe.drop(['Price'], inplace=False, axis='columns')\n",
        "y = df_ohe[[\"Price\"]]"
      ],
      "metadata": {
        "id": "8xJpGEsmBsk4"
      },
      "execution_count": null,
      "outputs": []
    },
    {
      "cell_type": "code",
      "source": [
        "#split the data into trainig set and testing set\n",
        "from sklearn.model_selection import train_test_split\n",
        "X_train ,X_test, y_train, y_test = train_test_split(X,y, test_size = 0.2)"
      ],
      "metadata": {
        "id": "KmTPYW7UB1rU"
      },
      "execution_count": null,
      "outputs": []
    },
    {
      "cell_type": "code",
      "source": [
        "# Just for fun Ill be using a bunch of models to see which one is doing a great job\n",
        "\n",
        "from sklearn.linear_model import LinearRegression, Ridge, Lasso\n",
        "from sklearn.neighbors import KNeighborsRegressor\n",
        "from sklearn.neural_network import MLPRegressor\n",
        "from sklearn.svm import LinearSVR, SVR\n",
        "from sklearn.tree import DecisionTreeRegressor\n",
        "from sklearn.ensemble import RandomForestRegressor, GradientBoostingRegressor\n",
        "from xgboost import XGBRegressor\n",
        "#from lightgbm import LGBMRegressor\n",
        "#from catboost import CatBoostRegressor\n",
        "\n",
        "import warnings\n",
        "warnings.filterwarnings(action='ignore')"
      ],
      "metadata": {
        "id": "Gid5uCqjB4Zb"
      },
      "execution_count": null,
      "outputs": []
    },
    {
      "cell_type": "code",
      "source": [
        "models = {\n",
        "    \"                     Linear Regression\": LinearRegression(),\n",
        "    \" Linear Regression (L2 Regularization)\": Ridge(),\n",
        "    \" Linear Regression (L1 Regularization)\": Lasso(),\n",
        "    \"                   K-Nearest Neighbors\": KNeighborsRegressor(),\n",
        "    \"                        Neural Network\": MLPRegressor(),\n",
        "    \"Support Vector Machine (Linear Kernel)\": LinearSVR(),\n",
        "    \"   Support Vector Machine (RBF Kernel)\": SVR(),\n",
        "    \"                         Decision Tree\": DecisionTreeRegressor(),\n",
        "    \"                         Random Forest\": RandomForestRegressor(),\n",
        "    \"                     Gradient Boosting\": GradientBoostingRegressor(),\n",
        "    \"                               XGBoost\": XGBRegressor()\n",
        "}\n",
        "\n",
        "for name, model in models.items():\n",
        "    model.fit(X_train, y_train)\n",
        "    print(name + \" model trained successfully.\")"
      ],
      "metadata": {
        "colab": {
          "base_uri": "https://localhost:8080/"
        },
        "id": "_a1UsyPnIgV1",
        "outputId": "0f80e14e-7621-41ca-a549-ae304fa41757"
      },
      "execution_count": null,
      "outputs": [
        {
          "output_type": "stream",
          "name": "stdout",
          "text": [
            "                     Linear Regression model trained successfully.\n",
            " Linear Regression (L2 Regularization) model trained successfully.\n",
            " Linear Regression (L1 Regularization) model trained successfully.\n",
            "                   K-Nearest Neighbors model trained successfully.\n",
            "                        Neural Network model trained successfully.\n",
            "Support Vector Machine (Linear Kernel) model trained successfully.\n",
            "   Support Vector Machine (RBF Kernel) model trained successfully.\n",
            "                         Decision Tree model trained successfully.\n",
            "                         Random Forest model trained successfully.\n",
            "                     Gradient Boosting model trained successfully.\n",
            "[05:53:11] WARNING: /workspace/src/objective/regression_obj.cu:152: reg:linear is now deprecated in favor of reg:squarederror.\n",
            "                               XGBoost model trained successfully.\n"
          ]
        }
      ]
    },
    {
      "cell_type": "code",
      "source": [
        "#Printing the model and its perfomance score\n",
        "\n",
        "for name, model in models.items():\n",
        "    print(name + \" R^2 Score: {:.5f}\".format(model.score(X_test, y_test)))"
      ],
      "metadata": {
        "colab": {
          "base_uri": "https://localhost:8080/"
        },
        "id": "34FJG2LDJDPo",
        "outputId": "3bf39e48-2003-44f9-b5fb-6dd6b2b9efc8"
      },
      "execution_count": null,
      "outputs": [
        {
          "output_type": "stream",
          "name": "stdout",
          "text": [
            "                     Linear Regression R^2 Score: 0.20803\n",
            " Linear Regression (L2 Regularization) R^2 Score: 0.21462\n",
            " Linear Regression (L1 Regularization) R^2 Score: 0.18511\n",
            "                   K-Nearest Neighbors R^2 Score: -0.04103\n",
            "                        Neural Network R^2 Score: -22.20299\n",
            "Support Vector Machine (Linear Kernel) R^2 Score: -0.41398\n",
            "   Support Vector Machine (RBF Kernel) R^2 Score: 0.17438\n",
            "                         Decision Tree R^2 Score: 0.16923\n",
            "                         Random Forest R^2 Score: 0.18118\n",
            "                     Gradient Boosting R^2 Score: 0.20749\n",
            "                               XGBoost R^2 Score: 0.21103\n"
          ]
        }
      ]
    },
    {
      "cell_type": "markdown",
      "source": [
        "# **Conclution**\n",
        "1. None of the above regression models are performing better, becouse the r^2 values are not very close to 1.\n",
        "2. Howevr we can see that some of the models are better than the other.\n",
        "3. The negative r^2 values indicates that the model has completely messed."
      ],
      "metadata": {
        "id": "r82ejJ7KLkUR"
      }
    },
    {
      "cell_type": "code",
      "source": [
        ""
      ],
      "metadata": {
        "id": "K9Dqxf6JJ5nl"
      },
      "execution_count": null,
      "outputs": []
    }
  ]
}